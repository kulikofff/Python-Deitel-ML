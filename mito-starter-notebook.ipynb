{
 "cells": [
  {
   "cell_type": "code",
   "execution_count": 1,
   "id": "c0957234-ba57-4199-adfa-9d17ede0b8f9",
   "metadata": {},
   "outputs": [
    {
     "data": {
      "application/vnd.jupyter.widget-view+json": {
       "model_id": "96cbff1638b040cd89cdae332fbcaba8",
       "version_major": 2,
       "version_minor": 0
      },
      "text/plain": [
       "MitoWidget(analysis_data_json='{\"analysisName\": \"id-ezrqiohete\", \"analysisToReplay\": null, \"code\": [], \"stepSu…"
      ]
     },
     "metadata": {},
     "output_type": "display_data"
    }
   ],
   "source": [
    "# Run this cell to render a mitosheet\n",
    "# See mito's documentation here: https://docs.trymito.io/how-to/creating-a-mitosheet\n",
    "# Join our Discord for support here: https://discord.gg/XdJSZyejJU\n",
    "\n",
    "import mitosheet\n",
    "mitosheet.sheet(analysis_to_replay=\"id-ezrqiohete\")"
   ]
  },
  {
   "cell_type": "code",
   "execution_count": null,
   "id": "c26b7ee3-5871-4b8f-bb66-aea59977fac1",
   "metadata": {},
   "outputs": [],
   "source": [
    "from mitosheet import *; register_analysis(\"id-ezrqiohete\");\n",
    "    \n",
    "# Imported all_games.csv\n",
    "import pandas as pd\n",
    "all_games = pd.read_csv(r'E:\\Куликов\\Juniper и GNS3\\Python Deitel ML\\archive for mito\\all_games.csv')\n",
    "\n",
    "# Changed user_review to dtype float\n",
    "all_games['user_review'] = to_float_series(all_games['user_review'])\n",
    "\n",
    "# Sorted user_review in ascending order\n",
    "all_games = all_games.sort_values(by='user_review', ascending=True, na_position='first')\n",
    "\n",
    "# Filtered user_review\n",
    "all_games = all_games[all_games['user_review'] > 9]\n",
    "\n",
    "# Pivoted into all_games\n",
    "tmp_df = all_games[['name', 'platform']]\n",
    "pivot_table = tmp_df.pivot_table(\n",
    "    index=['platform'],\n",
    "    values=['name', 'platform'],\n",
    "    aggfunc={'name': ['count'], 'platform': ['count']}\n",
    ")\n",
    "pivot_table.set_axis([flatten_column_header(col) for col in pivot_table.keys()], axis=1, inplace=True)\n",
    "all_games_pivot = pivot_table.reset_index()\n",
    "\n",
    "# Sorted name count in descending order\n",
    "all_games_pivot = all_games_pivot.sort_values(by='name count', ascending=False, na_position='last')\n"
   ]
  }
 ],
 "metadata": {
  "kernelspec": {
   "display_name": "Python 3 (ipykernel)",
   "language": "python",
   "name": "python3"
  },
  "language_info": {
   "codemirror_mode": {
    "name": "ipython",
    "version": 3
   },
   "file_extension": ".py",
   "mimetype": "text/x-python",
   "name": "python",
   "nbconvert_exporter": "python",
   "pygments_lexer": "ipython3",
   "version": "3.10.6"
  },
  "widgets": {
   "application/vnd.jupyter.widget-state+json": {
    "state": {},
    "version_major": 2,
    "version_minor": 0
   }
  }
 },
 "nbformat": 4,
 "nbformat_minor": 5
}
